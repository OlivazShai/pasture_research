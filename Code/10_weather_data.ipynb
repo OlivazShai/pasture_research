{
 "cells": [
  {
   "cell_type": "markdown",
   "metadata": {},
   "source": [
    "# Weather data in GEE"
   ]
  },
  {
   "cell_type": "markdown",
   "metadata": {},
   "source": [
    "## Initializing dependencies"
   ]
  },
  {
   "cell_type": "code",
   "execution_count": 3,
   "metadata": {},
   "outputs": [],
   "source": [
    "# Import necessary libraries\n",
    "import ee  # Google Earth Engine API\n",
    "import geemap  # For interactive maps with GEE and other utilities\n",
    "import pandas as pd  # For data manipulation\n",
    "import numpy as np  # For numerical operations\n",
    "import matplotlib.pyplot as plt  # For plotting\n",
    "import geopandas as gpd  # For geospatial data handling"
   ]
  },
  {
   "cell_type": "code",
   "execution_count": 5,
   "metadata": {},
   "outputs": [
    {
     "data": {
      "text/html": [
       "\n",
       "            <style>\n",
       "                .geemap-dark {\n",
       "                    --jp-widgets-color: white;\n",
       "                    --jp-widgets-label-color: white;\n",
       "                    --jp-ui-font-color1: white;\n",
       "                    --jp-layout-color2: #454545;\n",
       "                    background-color: #383838;\n",
       "                }\n",
       "\n",
       "                .geemap-dark .jupyter-button {\n",
       "                    --jp-layout-color3: #383838;\n",
       "                }\n",
       "\n",
       "                .geemap-colab {\n",
       "                    background-color: var(--colab-primary-surface-color, white);\n",
       "                }\n",
       "\n",
       "                .geemap-colab .jupyter-button {\n",
       "                    --jp-layout-color3: var(--colab-primary-surface-color, white);\n",
       "                }\n",
       "            </style>\n",
       "            "
      ],
      "text/plain": [
       "<IPython.core.display.HTML object>"
      ]
     },
     "metadata": {},
     "output_type": "display_data"
    },
    {
     "data": {
      "text/html": [
       "<p>To authorize access needed by Earth Engine, open the following\n",
       "        URL in a web browser and follow the instructions:</p>\n",
       "        <p><a href=https://code.earthengine.google.com/client-auth?scopes=https%3A//www.googleapis.com/auth/earthengine%20https%3A//www.googleapis.com/auth/cloud-platform%20https%3A//www.googleapis.com/auth/devstorage.full_control&request_id=UeppOIq4HYj63fdu75_Ljx_2--SEfCkA4f4LrhVD4To&tc=qwuBWEO_0Hes5gwsT3WQLNVG_6Bvxi1s3YCY0pZ3cNQ&cc=BiRvQcIFG-UHFUo7K39RJPRyauAnvac70y97BXHSo5A>https://code.earthengine.google.com/client-auth?scopes=https%3A//www.googleapis.com/auth/earthengine%20https%3A//www.googleapis.com/auth/cloud-platform%20https%3A//www.googleapis.com/auth/devstorage.full_control&request_id=UeppOIq4HYj63fdu75_Ljx_2--SEfCkA4f4LrhVD4To&tc=qwuBWEO_0Hes5gwsT3WQLNVG_6Bvxi1s3YCY0pZ3cNQ&cc=BiRvQcIFG-UHFUo7K39RJPRyauAnvac70y97BXHSo5A</a></p>\n",
       "        <p>The authorization workflow will generate a code, which you should paste in the box below.</p>\n",
       "        "
      ],
      "text/plain": [
       "<IPython.core.display.HTML object>"
      ]
     },
     "metadata": {},
     "output_type": "display_data"
    },
    {
     "name": "stdout",
     "output_type": "stream",
     "text": [
      "\n",
      "Successfully saved authorization token.\n"
     ]
    }
   ],
   "source": [
    "ee.Authenticate()"
   ]
  },
  {
   "cell_type": "code",
   "execution_count": 6,
   "metadata": {},
   "outputs": [
    {
     "data": {
      "text/html": [
       "\n",
       "            <style>\n",
       "                .geemap-dark {\n",
       "                    --jp-widgets-color: white;\n",
       "                    --jp-widgets-label-color: white;\n",
       "                    --jp-ui-font-color1: white;\n",
       "                    --jp-layout-color2: #454545;\n",
       "                    background-color: #383838;\n",
       "                }\n",
       "\n",
       "                .geemap-dark .jupyter-button {\n",
       "                    --jp-layout-color3: #383838;\n",
       "                }\n",
       "\n",
       "                .geemap-colab {\n",
       "                    background-color: var(--colab-primary-surface-color, white);\n",
       "                }\n",
       "\n",
       "                .geemap-colab .jupyter-button {\n",
       "                    --jp-layout-color3: var(--colab-primary-surface-color, white);\n",
       "                }\n",
       "            </style>\n",
       "            "
      ],
      "text/plain": [
       "<IPython.core.display.HTML object>"
      ]
     },
     "metadata": {},
     "output_type": "display_data"
    }
   ],
   "source": [
    "ee.Initialize()"
   ]
  },
  {
   "cell_type": "markdown",
   "metadata": {},
   "source": [
    "## TerraClimate"
   ]
  },
  {
   "cell_type": "code",
   "execution_count": null,
   "metadata": {},
   "outputs": [],
   "source": [
    "import ee\n",
    "import geemap\n",
    "import geopandas as gpd\n",
    "import pandas as pd\n",
    "\n",
    "# Initialize Google Earth Engine\n",
    "ee.Initialize()\n",
    "\n",
    "# Load TerraClimate dataset\n",
    "terraclimate = ee.ImageCollection(\"IDAHO_EPSCOR/TERRACLIMATE\") \\\n",
    "    .filterDate(\"2000-01-01\", \"2023-12-31\") \\\n",
    "    .select([\"pdsi\", \"pr\", \"tmmn\", \"tmmx\"])\n",
    "\n",
    "# Load AMC shapefile\n",
    "amc_shapefile_path = \"../Variables/amc_1991_2022/amc_1991_2022.shp\"\n",
    "amc_gdf = gpd.read_file(amc_shapefile_path)\n",
    "amc_fc = geemap.geopandas_to_ee(amc_gdf)\n",
    "\n",
    "# Function to calculate mean of variables (weighted approach)\n",
    "def calculate_yearly_mean(year):\n",
    "    start_date = f\"{year}-01-01\"\n",
    "    end_date = f\"{year}-12-31\"\n",
    "    \n",
    "    # Filter TerraClimate for the year\n",
    "    yearly_data = terraclimate.filterDate(start_date, end_date).mean()\n",
    "    \n",
    "    # Reduce to mean for each variable\n",
    "    stats = yearly_data.reduceRegions(\n",
    "        collection=amc_fc,\n",
    "        reducer=ee.Reducer.mean(),\n",
    "        scale=4638,\n",
    "        crs=\"EPSG:4326\"\n",
    "    )\n",
    "    \n",
    "    # Convert to pandas DataFrame\n",
    "    df = geemap.ee_to_geopandas(stats)\n",
    "    df[\"year\"] = year  # Add year column\n",
    "    return df[[\"id\", \"year\", \"pdsi\", \"tmmn\", \"tmmx\"]]\n",
    "\n",
    "# Function to calculate yearly sum of precipitation\n",
    "def calculate_yearly_sum_pr(year):\n",
    "    start_date = f\"{year}-01-01\"\n",
    "    end_date = f\"{year}-12-31\"\n",
    "    \n",
    "    # Filter TerraClimate for the year\n",
    "    yearly_pr = terraclimate.filterDate(start_date, end_date).select(\"pr\").sum()\n",
    "    \n",
    "    # Reduce to sum of precipitation\n",
    "    stats = yearly_pr.reduceRegions(\n",
    "        collection=amc_fc,\n",
    "        reducer=ee.Reducer.sum(),\n",
    "        scale=4638,\n",
    "        crs=\"EPSG:4326\"\n",
    "    )\n",
    "    \n",
    "    # Convert to pandas DataFrame\n",
    "    df = geemap.ee_to_geopandas(stats)\n",
    "    df[\"year\"] = year  # Add year column\n",
    "    return df[[\"id\", \"year\", \"pr\"]]\n",
    "\n",
    "# Process all years and combine results\n",
    "years = range(2000, 2024)\n",
    "\n",
    "# Calculate mean variables\n",
    "mean_results = [calculate_yearly_mean(year) for year in years]\n",
    "mean_df = pd.concat(mean_results)\n",
    "\n",
    "# Calculate precipitation sum\n",
    "sum_results = [calculate_yearly_sum_pr(year) for year in years]\n",
    "sum_df = pd.concat(sum_results)\n",
    "\n",
    "# Merge mean and sum results\n",
    "final_df = pd.merge(mean_df, sum_df, on=[\"id\", \"year\"])\n",
    "\n",
    "# Clean up DataFrame for panel data\n",
    "final_df = final_df.rename(columns={\n",
    "    \"id\": \"AMC_ID\",\n",
    "    \"pdsi\": \"Mean_PDSI\",\n",
    "    \"tmmn\": \"Mean_Min_Temp\",\n",
    "    \"tmmx\": \"Mean_Max_Temp\",\n",
    "    \"pr\": \"Total_Precipitation\"\n",
    "})\n",
    "\n",
    "# Save to CSV\n",
    "final_df.to_csv(\"AMC_Yearly_Panel.csv\", index=False)\n",
    "\n",
    "print(\"Processing completed. Results saved to 'AMC_Yearly_Panel.csv'.\")\n"
   ]
  }
 ],
 "metadata": {
  "kernelspec": {
   "display_name": "pasture_research",
   "language": "python",
   "name": "python3"
  },
  "language_info": {
   "codemirror_mode": {
    "name": "ipython",
    "version": 3
   },
   "file_extension": ".py",
   "mimetype": "text/x-python",
   "name": "python",
   "nbconvert_exporter": "python",
   "pygments_lexer": "ipython3",
   "version": "3.11.11"
  }
 },
 "nbformat": 4,
 "nbformat_minor": 2
}
