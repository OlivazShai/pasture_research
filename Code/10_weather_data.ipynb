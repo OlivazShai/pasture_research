{
 "cells": [
  {
   "cell_type": "markdown",
   "metadata": {},
   "source": [
    "# Weather data in GEE"
   ]
  },
  {
   "cell_type": "markdown",
   "metadata": {},
   "source": [
    "## Initializing dependencies"
   ]
  },
  {
   "cell_type": "code",
   "execution_count": 3,
   "metadata": {},
   "outputs": [],
   "source": [
    "# Import necessary libraries\n",
    "import ee  # Google Earth Engine API\n",
    "import geemap  # For interactive maps with GEE and other utilities\n",
    "import pandas as pd  # For data manipulation\n",
    "import numpy as np  # For numerical operations\n",
    "import matplotlib.pyplot as plt  # For plotting\n",
    "import geopandas as gpd  # For geospatial data handling"
   ]
  },
  {
   "cell_type": "code",
   "execution_count": 5,
   "metadata": {},
   "outputs": [
    {
     "data": {
      "text/html": [
       "\n",
       "            <style>\n",
       "                .geemap-dark {\n",
       "                    --jp-widgets-color: white;\n",
       "                    --jp-widgets-label-color: white;\n",
       "                    --jp-ui-font-color1: white;\n",
       "                    --jp-layout-color2: #454545;\n",
       "                    background-color: #383838;\n",
       "                }\n",
       "\n",
       "                .geemap-dark .jupyter-button {\n",
       "                    --jp-layout-color3: #383838;\n",
       "                }\n",
       "\n",
       "                .geemap-colab {\n",
       "                    background-color: var(--colab-primary-surface-color, white);\n",
       "                }\n",
       "\n",
       "                .geemap-colab .jupyter-button {\n",
       "                    --jp-layout-color3: var(--colab-primary-surface-color, white);\n",
       "                }\n",
       "            </style>\n",
       "            "
      ],
      "text/plain": [
       "<IPython.core.display.HTML object>"
      ]
     },
     "metadata": {},
     "output_type": "display_data"
    },
    {
     "data": {
      "text/html": [
       "<p>To authorize access needed by Earth Engine, open the following\n",
       "        URL in a web browser and follow the instructions:</p>\n",
       "        <p><a href=https://code.earthengine.google.com/client-auth?scopes=https%3A//www.googleapis.com/auth/earthengine%20https%3A//www.googleapis.com/auth/cloud-platform%20https%3A//www.googleapis.com/auth/devstorage.full_control&request_id=UeppOIq4HYj63fdu75_Ljx_2--SEfCkA4f4LrhVD4To&tc=qwuBWEO_0Hes5gwsT3WQLNVG_6Bvxi1s3YCY0pZ3cNQ&cc=BiRvQcIFG-UHFUo7K39RJPRyauAnvac70y97BXHSo5A>https://code.earthengine.google.com/client-auth?scopes=https%3A//www.googleapis.com/auth/earthengine%20https%3A//www.googleapis.com/auth/cloud-platform%20https%3A//www.googleapis.com/auth/devstorage.full_control&request_id=UeppOIq4HYj63fdu75_Ljx_2--SEfCkA4f4LrhVD4To&tc=qwuBWEO_0Hes5gwsT3WQLNVG_6Bvxi1s3YCY0pZ3cNQ&cc=BiRvQcIFG-UHFUo7K39RJPRyauAnvac70y97BXHSo5A</a></p>\n",
       "        <p>The authorization workflow will generate a code, which you should paste in the box below.</p>\n",
       "        "
      ],
      "text/plain": [
       "<IPython.core.display.HTML object>"
      ]
     },
     "metadata": {},
     "output_type": "display_data"
    },
    {
     "name": "stdout",
     "output_type": "stream",
     "text": [
      "\n",
      "Successfully saved authorization token.\n"
     ]
    }
   ],
   "source": [
    "ee.Authenticate()"
   ]
  },
  {
   "cell_type": "code",
   "execution_count": 4,
   "metadata": {},
   "outputs": [
    {
     "data": {
      "text/html": [
       "\n",
       "            <style>\n",
       "                .geemap-dark {\n",
       "                    --jp-widgets-color: white;\n",
       "                    --jp-widgets-label-color: white;\n",
       "                    --jp-ui-font-color1: white;\n",
       "                    --jp-layout-color2: #454545;\n",
       "                    background-color: #383838;\n",
       "                }\n",
       "\n",
       "                .geemap-dark .jupyter-button {\n",
       "                    --jp-layout-color3: #383838;\n",
       "                }\n",
       "\n",
       "                .geemap-colab {\n",
       "                    background-color: var(--colab-primary-surface-color, white);\n",
       "                }\n",
       "\n",
       "                .geemap-colab .jupyter-button {\n",
       "                    --jp-layout-color3: var(--colab-primary-surface-color, white);\n",
       "                }\n",
       "            </style>\n",
       "            "
      ],
      "text/plain": [
       "<IPython.core.display.HTML object>"
      ]
     },
     "metadata": {},
     "output_type": "display_data"
    }
   ],
   "source": [
    "ee.Initialize()"
   ]
  },
  {
   "cell_type": "markdown",
   "metadata": {},
   "source": [
    "## TerraClimate"
   ]
  },
  {
   "cell_type": "code",
   "execution_count": 5,
   "metadata": {},
   "outputs": [
    {
     "data": {
      "text/html": [
       "\n",
       "            <style>\n",
       "                .geemap-dark {\n",
       "                    --jp-widgets-color: white;\n",
       "                    --jp-widgets-label-color: white;\n",
       "                    --jp-ui-font-color1: white;\n",
       "                    --jp-layout-color2: #454545;\n",
       "                    background-color: #383838;\n",
       "                }\n",
       "\n",
       "                .geemap-dark .jupyter-button {\n",
       "                    --jp-layout-color3: #383838;\n",
       "                }\n",
       "\n",
       "                .geemap-colab {\n",
       "                    background-color: var(--colab-primary-surface-color, white);\n",
       "                }\n",
       "\n",
       "                .geemap-colab .jupyter-button {\n",
       "                    --jp-layout-color3: var(--colab-primary-surface-color, white);\n",
       "                }\n",
       "            </style>\n",
       "            "
      ],
      "text/plain": [
       "<IPython.core.display.HTML object>"
      ]
     },
     "metadata": {},
     "output_type": "display_data"
    }
   ],
   "source": [
    "# Load TerraClimate dataset\n",
    "terraclimate = ee.ImageCollection(\"IDAHO_EPSCOR/TERRACLIMATE\") \\\n",
    "    .filterDate(\"2000-01-01\", \"2023-12-31\") \\\n",
    "    .select([\"pdsi\", \"pr\", \"tmmn\", \"tmmx\"])"
   ]
  },
  {
   "cell_type": "code",
   "execution_count": 31,
   "metadata": {},
   "outputs": [
    {
     "data": {
      "text/html": [
       "\n",
       "            <style>\n",
       "                .geemap-dark {\n",
       "                    --jp-widgets-color: white;\n",
       "                    --jp-widgets-label-color: white;\n",
       "                    --jp-ui-font-color1: white;\n",
       "                    --jp-layout-color2: #454545;\n",
       "                    background-color: #383838;\n",
       "                }\n",
       "\n",
       "                .geemap-dark .jupyter-button {\n",
       "                    --jp-layout-color3: #383838;\n",
       "                }\n",
       "\n",
       "                .geemap-colab {\n",
       "                    background-color: var(--colab-primary-surface-color, white);\n",
       "                }\n",
       "\n",
       "                .geemap-colab .jupyter-button {\n",
       "                    --jp-layout-color3: var(--colab-primary-surface-color, white);\n",
       "                }\n",
       "            </style>\n",
       "            "
      ],
      "text/plain": [
       "<IPython.core.display.HTML object>"
      ]
     },
     "metadata": {},
     "output_type": "display_data"
    }
   ],
   "source": [
    "# Load AMC shapefile\n",
    "amc_fc = ee.FeatureCollection(\"projects/degraded-pastures/assets/amc_1991_2022\")"
   ]
  },
  {
   "cell_type": "markdown",
   "metadata": {},
   "source": [
    "Define functions to calculate the mean, min and max and the sum (explain better!)"
   ]
  },
  {
   "cell_type": "code",
   "execution_count": 35,
   "metadata": {},
   "outputs": [
    {
     "data": {
      "text/html": [
       "\n",
       "            <style>\n",
       "                .geemap-dark {\n",
       "                    --jp-widgets-color: white;\n",
       "                    --jp-widgets-label-color: white;\n",
       "                    --jp-ui-font-color1: white;\n",
       "                    --jp-layout-color2: #454545;\n",
       "                    background-color: #383838;\n",
       "                }\n",
       "\n",
       "                .geemap-dark .jupyter-button {\n",
       "                    --jp-layout-color3: #383838;\n",
       "                }\n",
       "\n",
       "                .geemap-colab {\n",
       "                    background-color: var(--colab-primary-surface-color, white);\n",
       "                }\n",
       "\n",
       "                .geemap-colab .jupyter-button {\n",
       "                    --jp-layout-color3: var(--colab-primary-surface-color, white);\n",
       "                }\n",
       "            </style>\n",
       "            "
      ],
      "text/plain": [
       "<IPython.core.display.HTML object>"
      ]
     },
     "metadata": {},
     "output_type": "display_data"
    }
   ],
   "source": [
    "# Reducer to calculate mean and min\n",
    "mean_min_reducer = ee.Reducer.mean().combine(\n",
    "    reducer2=ee.Reducer.min(),\n",
    "    sharedInputs=True  # Ensures both reducers use the same input data\n",
    "    )\n",
    "\n",
    "# reducer to calculate mean and max\n",
    "mean_max_reducer = ee.Reducer.mean().combine(\n",
    "    reducer2=ee.Reducer.max(),\n",
    "    sharedInputs=True\n",
    "    )"
   ]
  },
  {
   "cell_type": "code",
   "execution_count": 63,
   "metadata": {},
   "outputs": [
    {
     "data": {
      "text/html": [
       "\n",
       "            <style>\n",
       "                .geemap-dark {\n",
       "                    --jp-widgets-color: white;\n",
       "                    --jp-widgets-label-color: white;\n",
       "                    --jp-ui-font-color1: white;\n",
       "                    --jp-layout-color2: #454545;\n",
       "                    background-color: #383838;\n",
       "                }\n",
       "\n",
       "                .geemap-dark .jupyter-button {\n",
       "                    --jp-layout-color3: #383838;\n",
       "                }\n",
       "\n",
       "                .geemap-colab {\n",
       "                    background-color: var(--colab-primary-surface-color, white);\n",
       "                }\n",
       "\n",
       "                .geemap-colab .jupyter-button {\n",
       "                    --jp-layout-color3: var(--colab-primary-surface-color, white);\n",
       "                }\n",
       "            </style>\n",
       "            "
      ],
      "text/plain": [
       "<IPython.core.display.HTML object>"
      ]
     },
     "metadata": {},
     "output_type": "display_data"
    }
   ],
   "source": [
    "# Function to calculate mean and min of variables\n",
    "def calculate_pdsi_tmmn(year):\n",
    "    start_date = f\"{year}-01-01\"\n",
    "    end_date = f\"{year}-12-31\"\n",
    "    \n",
    "    # Filter TerraClimate for the year\n",
    "    # Select PDSI and TMMN\n",
    "    # Take the mean and the min of each\n",
    "    yearly_data = terraclimate.filterDate(start_date, end_date) \\\n",
    "                    .select([\"pdsi\", \"tmmn\"]) \\\n",
    "                    .reduce(\n",
    "                        reducer = mean_min_reducer\n",
    "                    )\n",
    "    \n",
    "    # Reduce to weighted mean for each variable in the AMCs\n",
    "    stats = yearly_data.reduceRegions(\n",
    "        collection=amc_fc,\n",
    "        reducer=ee.Reducer.mean(),\n",
    "        scale=4638.3,\n",
    "        crs=\"EPSG:4326\"\n",
    "    )\n",
    "    \n",
    "    # Convert to pandas DataFrame\n",
    "    df = geemap.ee_to_df(stats)\n",
    "    df[\"year\"] = year  # Add year column\n",
    "\n",
    "    return df[[\"code_amc\", \"year\", \"pdsi_min\", \"pdsi_mean\", \"tmmn_min\", \"tmmn_mean\"]]\n",
    "\n",
    "# Function to calculate mean and max of variables\n",
    "def calculate_tmmx(year):\n",
    "    start_date = f\"{year}-01-01\"\n",
    "    end_date = f\"{year}-12-31\"\n",
    "    \n",
    "    # Filter TerraClimate for the year\n",
    "    # Select TMMX\n",
    "    # Take the mean and the min of each\n",
    "    yearly_data = terraclimate.filterDate(start_date, end_date) \\\n",
    "                    .select(\"tmmx\") \\\n",
    "                    .reduce(\n",
    "                        reducer = mean_max_reducer\n",
    "                    )\n",
    "    \n",
    "    # Reduce to weighted mean for each variable in the AMCs\n",
    "    stats = yearly_data.reduceRegions(\n",
    "        collection=amc_fc,\n",
    "        reducer=ee.Reducer.mean(),\n",
    "        scale=4638.3,\n",
    "        crs=\"EPSG:4326\"\n",
    "    )\n",
    "    \n",
    "    # Convert to pandas DataFrame\n",
    "    df = geemap.ee_to_df(stats)\n",
    "    df[\"year\"] = year  # Add year column\n",
    "    \n",
    "    return df[[\"code_amc\", \"year\", \"tmmx_max\", \"tmmx_mean\"]]\n",
    "\n",
    "# Function to calculate precipitation\n",
    "# Sums through the year and take the weighted mean in the regions\n",
    "def calculate_pr(year):\n",
    "    start_date = f\"{year}-01-01\"\n",
    "    end_date = f\"{year}-12-31\"\n",
    "    \n",
    "    # Filter TerraClimate for the year\n",
    "    yearly_data = terraclimate.filterDate(start_date, end_date) \\\n",
    "                    .select(\"pr\") \\\n",
    "                    .sum()\n",
    "    \n",
    "    # Reduce to sum of precipitation\n",
    "    stats = yearly_data.reduceRegions(\n",
    "        collection=amc_fc,\n",
    "        reducer=ee.Reducer.mean(),\n",
    "        scale=4638.3,\n",
    "        crs=\"EPSG:4326\"\n",
    "    )\n",
    "    \n",
    "    # Convert to pandas DataFrame\n",
    "    df = geemap.ee_to_df(stats)\n",
    "    df[\"year\"] = year  # Add year column\n",
    "\n",
    "    # Rename column to pr\n",
    "    df.rename({\"mean\": \"pr\"}, axis = 1, inplace=True)\n",
    "\n",
    "    return df[[\"code_amc\", \"year\", \"pr\"]]"
   ]
  },
  {
   "cell_type": "code",
   "execution_count": null,
   "metadata": {},
   "outputs": [],
   "source": [
    "\n",
    "# Process all years and combine results\n",
    "years = range(2000, 2024)\n",
    "\n",
    "# Calculate pdsi and tmmn variables\n",
    "pdsi_tmmn_results = [calculate_pdsi_tmmn(year) for year in years]\n",
    "pdsi_tmmn_df = pd.concat(pdsi_tmmn_results)\n",
    "print(\"Done: PDSI and TMMN\")"
   ]
  },
  {
   "cell_type": "code",
   "execution_count": null,
   "metadata": {},
   "outputs": [],
   "source": [
    "\n",
    "# Calculate tmmx variables\n",
    "tmmx_results = [calculate_tmmx(year) for year in years]\n",
    "tmmx_df = pd.concat(tmmx_results)\n",
    "print(\"Done: TMMX\")\n"
   ]
  },
  {
   "cell_type": "code",
   "execution_count": null,
   "metadata": {},
   "outputs": [
    {
     "data": {
      "text/html": [
       "\n",
       "            <style>\n",
       "                .geemap-dark {\n",
       "                    --jp-widgets-color: white;\n",
       "                    --jp-widgets-label-color: white;\n",
       "                    --jp-ui-font-color1: white;\n",
       "                    --jp-layout-color2: #454545;\n",
       "                    background-color: #383838;\n",
       "                }\n",
       "\n",
       "                .geemap-dark .jupyter-button {\n",
       "                    --jp-layout-color3: #383838;\n",
       "                }\n",
       "\n",
       "                .geemap-colab {\n",
       "                    background-color: var(--colab-primary-surface-color, white);\n",
       "                }\n",
       "\n",
       "                .geemap-colab .jupyter-button {\n",
       "                    --jp-layout-color3: var(--colab-primary-surface-color, white);\n",
       "                }\n",
       "            </style>\n",
       "            "
      ],
      "text/plain": [
       "<IPython.core.display.HTML object>"
      ]
     },
     "metadata": {},
     "output_type": "display_data"
    },
    {
     "name": "stdout",
     "output_type": "stream",
     "text": [
      "Done: Precipitation\n"
     ]
    },
    {
     "data": {
      "text/html": [
       "<div>\n",
       "<style scoped>\n",
       "    .dataframe tbody tr th:only-of-type {\n",
       "        vertical-align: middle;\n",
       "    }\n",
       "\n",
       "    .dataframe tbody tr th {\n",
       "        vertical-align: top;\n",
       "    }\n",
       "\n",
       "    .dataframe thead th {\n",
       "        text-align: right;\n",
       "    }\n",
       "</style>\n",
       "<table border=\"1\" class=\"dataframe\">\n",
       "  <thead>\n",
       "    <tr style=\"text-align: right;\">\n",
       "      <th></th>\n",
       "      <th>code_amc</th>\n",
       "      <th>year</th>\n",
       "      <th>pdsi_min</th>\n",
       "      <th>pdsi_mean</th>\n",
       "      <th>tmmn_min</th>\n",
       "      <th>tmmn_mean</th>\n",
       "      <th>tmmx_max</th>\n",
       "      <th>tmmx_mean</th>\n",
       "      <th>pr</th>\n",
       "    </tr>\n",
       "  </thead>\n",
       "  <tbody>\n",
       "    <tr>\n",
       "      <th>0</th>\n",
       "      <td>10001</td>\n",
       "      <td>2000</td>\n",
       "      <td>-180.596486</td>\n",
       "      <td>-37.791641</td>\n",
       "      <td>125.789303</td>\n",
       "      <td>148.984715</td>\n",
       "      <td>294.498921</td>\n",
       "      <td>268.917694</td>\n",
       "      <td>901.529747</td>\n",
       "    </tr>\n",
       "    <tr>\n",
       "      <th>1</th>\n",
       "      <td>10002</td>\n",
       "      <td>2000</td>\n",
       "      <td>-260.619691</td>\n",
       "      <td>-203.035506</td>\n",
       "      <td>169.234191</td>\n",
       "      <td>190.477284</td>\n",
       "      <td>320.956466</td>\n",
       "      <td>299.802390</td>\n",
       "      <td>427.805492</td>\n",
       "    </tr>\n",
       "    <tr>\n",
       "      <th>2</th>\n",
       "      <td>10003</td>\n",
       "      <td>2000</td>\n",
       "      <td>180.335460</td>\n",
       "      <td>303.986364</td>\n",
       "      <td>174.622607</td>\n",
       "      <td>191.610871</td>\n",
       "      <td>303.692799</td>\n",
       "      <td>282.672250</td>\n",
       "      <td>1259.158614</td>\n",
       "    </tr>\n",
       "    <tr>\n",
       "      <th>3</th>\n",
       "      <td>10004</td>\n",
       "      <td>2000</td>\n",
       "      <td>-135.009927</td>\n",
       "      <td>27.037705</td>\n",
       "      <td>168.240073</td>\n",
       "      <td>185.643983</td>\n",
       "      <td>297.071970</td>\n",
       "      <td>277.138998</td>\n",
       "      <td>709.346003</td>\n",
       "    </tr>\n",
       "    <tr>\n",
       "      <th>4</th>\n",
       "      <td>10005</td>\n",
       "      <td>2000</td>\n",
       "      <td>-48.251733</td>\n",
       "      <td>148.462871</td>\n",
       "      <td>168.844554</td>\n",
       "      <td>187.581477</td>\n",
       "      <td>289.408540</td>\n",
       "      <td>270.348205</td>\n",
       "      <td>882.411757</td>\n",
       "    </tr>\n",
       "  </tbody>\n",
       "</table>\n",
       "</div>"
      ],
      "text/plain": [
       "  code_amc  year    pdsi_min   pdsi_mean    tmmn_min   tmmn_mean    tmmx_max  \\\n",
       "0    10001  2000 -180.596486  -37.791641  125.789303  148.984715  294.498921   \n",
       "1    10002  2000 -260.619691 -203.035506  169.234191  190.477284  320.956466   \n",
       "2    10003  2000  180.335460  303.986364  174.622607  191.610871  303.692799   \n",
       "3    10004  2000 -135.009927   27.037705  168.240073  185.643983  297.071970   \n",
       "4    10005  2000  -48.251733  148.462871  168.844554  187.581477  289.408540   \n",
       "\n",
       "    tmmx_mean           pr  \n",
       "0  268.917694   901.529747  \n",
       "1  299.802390   427.805492  \n",
       "2  282.672250  1259.158614  \n",
       "3  277.138998   709.346003  \n",
       "4  270.348205   882.411757  "
      ]
     },
     "execution_count": 64,
     "metadata": {},
     "output_type": "execute_result"
    }
   ],
   "source": [
    "\n",
    "# Calculate precipitation\n",
    "pr_results = [calculate_pr(year) for year in years]\n",
    "pr_df = pd.concat(pr_results)\n",
    "print(\"Done: Precipitation\")\n",
    "\n",
    "# Merge results\n",
    "final_df = (pdsi_tmmn_df\n",
    "            .merge(tmmx_df, on=[\"code_amc\", \"year\"])\n",
    "            .merge(pr_df, on=[\"code_amc\", \"year\"])\n",
    ")\n",
    "\n",
    "final_df.head()\n"
   ]
  },
  {
   "cell_type": "code",
   "execution_count": 66,
   "metadata": {},
   "outputs": [
    {
     "data": {
      "text/html": [
       "\n",
       "            <style>\n",
       "                .geemap-dark {\n",
       "                    --jp-widgets-color: white;\n",
       "                    --jp-widgets-label-color: white;\n",
       "                    --jp-ui-font-color1: white;\n",
       "                    --jp-layout-color2: #454545;\n",
       "                    background-color: #383838;\n",
       "                }\n",
       "\n",
       "                .geemap-dark .jupyter-button {\n",
       "                    --jp-layout-color3: #383838;\n",
       "                }\n",
       "\n",
       "                .geemap-colab {\n",
       "                    background-color: var(--colab-primary-surface-color, white);\n",
       "                }\n",
       "\n",
       "                .geemap-colab .jupyter-button {\n",
       "                    --jp-layout-color3: var(--colab-primary-surface-color, white);\n",
       "                }\n",
       "            </style>\n",
       "            "
      ],
      "text/plain": [
       "<IPython.core.display.HTML object>"
      ]
     },
     "metadata": {},
     "output_type": "display_data"
    }
   ],
   "source": [
    "# Save to CSV\n",
    "final_df.to_csv(\"../Variables/terraclimate.csv\", index=False)\n",
    "\n",
    "# Save to serialised Pickle\n",
    "final_df.to_pickle(\"../Variables/terraclimate.pkl\")"
   ]
  }
 ],
 "metadata": {
  "kernelspec": {
   "display_name": "pasture_research",
   "language": "python",
   "name": "python3"
  },
  "language_info": {
   "codemirror_mode": {
    "name": "ipython",
    "version": 3
   },
   "file_extension": ".py",
   "mimetype": "text/x-python",
   "name": "python",
   "nbconvert_exporter": "python",
   "pygments_lexer": "ipython3",
   "version": "3.11.11"
  }
 },
 "nbformat": 4,
 "nbformat_minor": 2
}
